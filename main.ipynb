{
  "nbformat": 4,
  "nbformat_minor": 0,
  "metadata": {
    "colab": {
      "name": "linearRegression.ipynb",
      "provenance": [],
      "collapsed_sections": []
    },
    "kernelspec": {
      "name": "python3",
      "display_name": "Python 3"
    }
  },
  "cells": [
    {
      "cell_type": "code",
      "metadata": {
        "id": "hk8gZWeQtC2z",
        "colab_type": "code",
        "colab": {}
      },
      "source": [
        "import warnings\n",
        "warnings.filterwarnings(\"ignore\") "
      ],
      "execution_count": 0,
      "outputs": []
    },
    {
      "cell_type": "code",
      "metadata": {
        "id": "G5oTbO2qi9kF",
        "colab_type": "code",
        "colab": {}
      },
      "source": [
        "import numpy as np\n",
        "import pandas as pd\n",
        "import matplotlib.pyplot as plt"
      ],
      "execution_count": 0,
      "outputs": []
    },
    {
      "cell_type": "code",
      "metadata": {
        "id": "OwP_i7XTtSVA",
        "colab_type": "code",
        "outputId": "a4ef1353-99a0-443f-91c5-defb83f823a7",
        "colab": {
          "base_uri": "https://localhost:8080/",
          "height": 119
        }
      },
      "source": [
        "##Normal Equation\n",
        "\n",
        "df = pd.read_csv('dataset.csv')\n",
        "# print(df.head())\n",
        "X = df.iloc[:,2:]\n",
        "Y = df.iloc[:,1]\n",
        "\n",
        "for i in range(X.shape[1]):\n",
        "  if(X.iloc[1,i]==\"yes\"or X.iloc[1,i]==\"no\"):\n",
        "    X.iloc[:,i]=(X.iloc[:,i]==\"yes\")      #converts yes ,no to true,false\n",
        "\n",
        "X=X*1                                     #converts true , false to 1,0.\n",
        "X\n",
        "trainLen=int(0.75*df.shape[0])\n",
        "# print(trainLen)\n",
        "trainX=X.iloc[:trainLen,:]\n",
        "trainY=df.iloc[:trainLen,1]\n",
        "testX=X.iloc[trainLen:,:]\n",
        "testY=df.iloc[trainLen:,1]\n",
        "\n",
        "XTrans=np.transpose(trainX)\n",
        "XXTrans=XTrans.dot(trainX)\n",
        "XXTransInv=np.linalg.inv(XXTrans)\n",
        "XXTransInv.shape\n",
        "XTransY=XTrans.dot(trainY)\n",
        "theta=XXTransInv.dot(XTransY)\n",
        "theta.shape\n",
        "\n",
        "\n",
        "#Accuracy\n",
        "\n",
        "predictY=testX.dot(theta)\n",
        "predictY\n",
        "error=0\n",
        "for i in range(trainLen,df.shape[0]):\n",
        "  # print(predictY[i],testY[i])\n",
        "  error+=(predictY[i]-testY[i])/testY[i]*100\n",
        "\n",
        "print(\"Co-efficient matrix after applying Normal Equation : \")\n",
        "print(theta.T)\n",
        "print(\"\")\n",
        "print(\"Percentage Error from Normal Equation = \"+str(error/testY.shape[0]))\n"
      ],
      "execution_count": 20,
      "outputs": [
        {
          "output_type": "stream",
          "text": [
            "Co-efficient matrix after applying Normal Equation : \n",
            "[3.62636621e+00 1.39376008e+03 1.27236059e+04 6.60997094e+03\n",
            " 5.16405029e+03 4.49862938e+03 5.17738242e+03 1.44745763e+04\n",
            " 1.21882815e+04 4.40594192e+03 1.38408223e+04]\n",
            "\n",
            "Percentage Error from Normal Equation = 8.060706597718553\n"
          ],
          "name": "stdout"
        }
      ]
    },
    {
      "cell_type": "code",
      "metadata": {
        "id": "f5m6SRBfS4wc",
        "colab_type": "code",
        "outputId": "b2f365aa-48d4-4282-f353-e84b49c6d985",
        "colab": {
          "base_uri": "https://localhost:8080/",
          "height": 414
        }
      },
      "source": [
        "##gradient descent\n",
        "df = pd.read_csv('dataset.csv')\n",
        "X = df.iloc[:,2:]\n",
        "Y = df.iloc[:,1]\n",
        "\n",
        "for i in range(X.shape[1]):\n",
        "  if(X.iloc[1,i]==\"yes\"or X.iloc[1,i]==\"no\"):\n",
        "    X.iloc[:,i]=(X.iloc[:,i]==\"yes\")      #converts yes ,no to true,false\n",
        "\n",
        "X=X*1                                     #converts true , false to 1,0.\n",
        "X\n",
        "\n",
        "X = (X - X.mean())/X.std()\n",
        "Y = (Y - Y.mean())/Y.std()\n",
        "\n",
        "\n",
        "trainLen=int(0.75*df.shape[0])\n",
        "\n",
        "trainX=X.iloc[:trainLen,:]\n",
        "trainY=df.iloc[:trainLen,1:2]\n",
        "\n",
        "testX=X.iloc[trainLen:,:]\n",
        "testY=df.iloc[trainLen:,1:2]\n",
        "\n",
        "m = trainX.shape[0]\n",
        "n = trainX.shape[1]\n",
        "ones = [1 for i in range(m)]\n",
        "# trainX = np.hstack((t,trainX))    #appending 1's at in the last col\n",
        "\n",
        "trainX['ones']=ones\n",
        "ones = [1 for i in range(137)]\n",
        "testX['ones']=ones\n",
        "\n",
        "trainX=np.asarray(trainX)\n",
        "trainY=np.asarray(trainY)\n",
        "testX=np.asarray(testX)\n",
        "testY=np.asarray(testY)\n",
        "costList=[]\n",
        "iterList=[]\n",
        "iters=100\n",
        "\n",
        "minCost=1e19\n",
        "alpha = 0.5\n",
        "\n",
        "minTheta= np.random.rand(1,trainX.shape[1])\n",
        "theta= np.random.rand(1,trainX.shape[1])\n",
        "\n",
        "# iterList.append(iters)\n",
        "for i in range(iters):\n",
        "  theta = theta - (alpha/len(trainX)) * np.sum(trainX * (trainX @ theta.T - trainY), axis=0)\n",
        "  J=np.power(((trainX.dot(theta.T))-trainY),2)\n",
        "  cost=np.sum(J)/(2 * len(trainX))\n",
        "  costList.append(cost)\n",
        "  # cost=np.sum(abs(trainX.dot(theta.T)-trainY))/2*len(trainX)\n",
        "  # print(cost)\n",
        "  if(cost<minCost):\n",
        "    # print(\"ansc\")\n",
        "    minCost=cost\n",
        "    minTheta=theta\n",
        "\n",
        "# print(minTheta.shape,testX.shape)\n",
        "Ypred = testX.dot(minTheta.T)\n",
        "# print(Ypred)\n",
        "error = 0\n",
        "for i in range(len(Ypred)):\n",
        "  # print(testY[i],Ypred[i])\n",
        "  error += abs(testY[i] - Ypred[i]) / testY[i]\n",
        "error /= len(testY)\n",
        "print(\"Percentage error =\" +str(error[0]*100))\n",
        "print(\"\")\n",
        "print(\" Optimal Theta = \"+str(minTheta))\n",
        "print(\"\")\n",
        "#   J=np.power(((trainX.dot(minTheta.T))-trainY),2)\n",
        "#   costList.append(np.sum(J)/(2 * len(trainX)))\n",
        "    \n",
        "plt.xlabel('Iterations') \n",
        "plt.ylabel('Cost')  \n",
        "plt.title('Cost vs. Training Epoch')\n",
        "plt.plot(np.arange(iters),costList)\n"
      ],
      "execution_count": 37,
      "outputs": [
        {
          "output_type": "stream",
          "text": [
            "Percentage error =16.301718423323504\n",
            "\n",
            " Optimal Theta = [[ 8013.53768373  1292.3090187   6478.1755138   5773.55140823\n",
            "   1947.89829898  1695.44254311  2519.87502682  3012.04465653\n",
            "   5653.88416618  3730.88025761  5729.37863097 68902.13754933]]\n",
            "\n"
          ],
          "name": "stdout"
        },
        {
          "output_type": "execute_result",
          "data": {
            "text/plain": [
              "[<matplotlib.lines.Line2D at 0x7f95f1915a20>]"
            ]
          },
          "metadata": {
            "tags": []
          },
          "execution_count": 37
        },
        {
          "output_type": "display_data",
          "data": {
            "image/png": "[encoded data removed]",
            "text/plain": [
              "<Figure size 432x288 with 1 Axes>"
            ]
          },
          "metadata": {
            "tags": [],
            "needs_background": "light"
          }
        }
      ]
    },
    {
      "cell_type": "code",
      "metadata": {
        "id": "g06ZJ9D2XDEN",
        "colab_type": "code",
        "outputId": "0d5c0da3-9b2b-4dba-9124-74598b4a5394",
        "colab": {
          "base_uri": "https://localhost:8080/",
          "height": 550
        }
      },
      "source": [
        "##LWR\n",
        "import matplotlib.pyplot as plt\n",
        "def findTheta(X,Y,tau,testXInd):\n",
        "  func=np.exp(np.sum((X-X[testXInd])**2,axis=1)/(-2*tau**2))\n",
        "  # print(func)\n",
        "  W = func * np.identity(X.shape[0])\n",
        "  mat=X.T.dot(W).dot(X)\n",
        "  theta = np.linalg.inv(mat)@X.T@W@Y\n",
        "  return theta\n",
        "\n",
        "df = pd.read_csv('dataset.csv')\n",
        "X = df.iloc[:,2:]\n",
        "Y = df.iloc[:,1:2]\n",
        "\n",
        "for i in range(X.shape[1]):\n",
        "  if(X.iloc[1,i]==\"yes\"or X.iloc[1,i]==\"no\"):\n",
        "    X.iloc[:,i]=(X.iloc[:,i]==\"yes\")      #converts yes ,no to true,false\n",
        "\n",
        "X=X*1                                     #converts true , false to 1,0.\n",
        "ones = [1 for i in range(len(X))]\n",
        "# trainX = np.hstack((t,trainX))    #appending 1's at in the last col\n",
        "\n",
        "mean = Y.mean()\n",
        "stddev = Y.std()\n",
        "X = (X - X.mean())/X.std()\n",
        "Y = (Y - Y.mean())/Y.std()\n",
        "X['ones']=ones\n",
        "print(X)\n",
        "X=np.asarray(X)\n",
        "Y=np.asarray(Y)\n",
        "\n",
        "error=0\n",
        "errorList=[]\n",
        "for tau in range(1,10):\n",
        "  error=0\n",
        "  for i in range(0,len(X)):\n",
        "    theta=findTheta(X,Y,tau,i)\n",
        "    # print(theta)\n",
        "    predY=X[i]@theta\n",
        "    actualY=Y[i][0]\n",
        "    predY[0]=predY[0]*stddev+mean\n",
        "    actualY=actualY*stddev+mean\n",
        "    # print(actualY,predY)\n",
        "    \n",
        "    error+=abs(predY[0]-actualY)/actualY\n",
        "#   print(actualY,predY,error)\n",
        "# print(error)\n",
        "\n",
        "  # print(error/len(X)*100)\n",
        "  errorList.append(error/len(X)*100)\n",
        "\n",
        "plt.xlabel('Tau')\n",
        "plt.ylabel('Percentage Error')  \n",
        "plt.title('Effect of Tau on error') \n",
        "plt.plot(range(9),errorList)\n"
      ],
      "execution_count": 34,
      "outputs": [
        {
          "output_type": "stream",
          "text": [
            "      lotsize  bedrooms   bathrms   stories  ...     airco  garagepl  prefarea  ones\n",
            "0    0.322732  0.047192 -0.568973  0.221501  ... -0.680410  0.357239 -0.552865     1\n",
            "1   -0.530526 -1.308947 -0.568973 -0.930304  ... -0.680410 -0.803788 -0.552865     1\n",
            "2   -0.964074  0.047192 -0.568973 -0.930304  ... -0.680410 -0.803788 -0.552865     1\n",
            "3    0.691709  0.047192 -0.568973  0.221501  ... -0.680410 -0.803788 -0.552865     1\n",
            "4    0.557955 -1.308947 -0.568973 -0.930304  ... -0.680410 -0.803788 -0.552865     1\n",
            "..        ...       ...       ...       ...  ...       ...       ...       ...   ...\n",
            "541 -0.161550  0.047192  1.422433  2.525111  ...  1.467011 -0.803788 -0.552865     1\n",
            "542  0.391915  0.047192  1.422433  2.525111  ...  1.467011 -0.803788 -0.552865     1\n",
            "543  0.391915  0.047192  1.422433  2.525111  ...  1.467011  0.357239 -0.552865     1\n",
            "544  0.391915  0.047192  1.422433  0.221501  ...  1.467011  0.357239 -0.552865     1\n",
            "545  0.391915  0.047192 -0.568973  0.221501  ...  1.467011  0.357239 -0.552865     1\n",
            "\n",
            "[546 rows x 12 columns]\n"
          ],
          "name": "stdout"
        },
        {
          "output_type": "execute_result",
          "data": {
            "text/plain": [
              "[<matplotlib.lines.Line2D at 0x7f95f2171908>]"
            ]
          },
          "metadata": {
            "tags": []
          },
          "execution_count": 34
        },
        {
          "output_type": "display_data",
          "data": {
            "image/png": "[encoded data removed]",
            "text/plain": [
              "<Figure size 432x288 with 1 Axes>"
            ]
          },
          "metadata": {
            "tags": [],
            "needs_background": "light"
          }
        }
      ]
    }
  ]
}